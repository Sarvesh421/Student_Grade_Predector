{
 "cells": [
  {
   "cell_type": "code",
   "execution_count": null,
   "id": "4c41dc44-16a6-499d-bc68-5e5de19e54f3",
   "metadata": {},
   "outputs": [],
   "source": [
    "! python.exe -m pip install --upgrade pip"
   ]
  },
  {
   "cell_type": "code",
   "execution_count": 90,
   "id": "034039b3-ca09-4176-b7ff-7a05640deef8",
   "metadata": {},
   "outputs": [
    {
     "name": "stdout",
     "output_type": "stream",
     "text": [
      "Requirement already satisfied: chardet in c:\\users\\sarve\\appdata\\local\\programs\\python\\python312\\lib\\site-packages (5.2.0)\n",
      "Requirement already satisfied: gradio in c:\\users\\sarve\\appdata\\local\\programs\\python\\python312\\lib\\site-packages (5.22.0)\n",
      "Requirement already satisfied: aiofiles<24.0,>=22.0 in c:\\users\\sarve\\appdata\\local\\programs\\python\\python312\\lib\\site-packages (from gradio) (23.2.1)\n",
      "Requirement already satisfied: anyio<5.0,>=3.0 in c:\\users\\sarve\\appdata\\local\\programs\\python\\python312\\lib\\site-packages (from gradio) (4.4.0)\n",
      "Requirement already satisfied: fastapi<1.0,>=0.115.2 in c:\\users\\sarve\\appdata\\local\\programs\\python\\python312\\lib\\site-packages (from gradio) (0.115.12)\n",
      "Requirement already satisfied: ffmpy in c:\\users\\sarve\\appdata\\local\\programs\\python\\python312\\lib\\site-packages (from gradio) (0.5.0)\n",
      "Requirement already satisfied: gradio-client==1.8.0 in c:\\users\\sarve\\appdata\\local\\programs\\python\\python312\\lib\\site-packages (from gradio) (1.8.0)\n",
      "Requirement already satisfied: groovy~=0.1 in c:\\users\\sarve\\appdata\\local\\programs\\python\\python312\\lib\\site-packages (from gradio) (0.1.2)\n",
      "Requirement already satisfied: httpx>=0.24.1 in c:\\users\\sarve\\appdata\\local\\programs\\python\\python312\\lib\\site-packages (from gradio) (0.27.0)\n",
      "Requirement already satisfied: huggingface-hub>=0.28.1 in c:\\users\\sarve\\appdata\\local\\programs\\python\\python312\\lib\\site-packages (from gradio) (0.29.3)\n",
      "Requirement already satisfied: jinja2<4.0 in c:\\users\\sarve\\appdata\\local\\programs\\python\\python312\\lib\\site-packages (from gradio) (3.1.4)\n",
      "Requirement already satisfied: markupsafe<4.0,>=2.0 in c:\\users\\sarve\\appdata\\local\\programs\\python\\python312\\lib\\site-packages (from gradio) (2.1.5)\n",
      "Requirement already satisfied: numpy<3.0,>=1.0 in c:\\users\\sarve\\appdata\\local\\programs\\python\\python312\\lib\\site-packages (from gradio) (1.26.4)\n",
      "Requirement already satisfied: orjson~=3.0 in c:\\users\\sarve\\appdata\\local\\programs\\python\\python312\\lib\\site-packages (from gradio) (3.10.15)\n",
      "Requirement already satisfied: packaging in c:\\users\\sarve\\appdata\\local\\programs\\python\\python312\\lib\\site-packages (from gradio) (24.1)\n",
      "Requirement already satisfied: pandas<3.0,>=1.0 in c:\\users\\sarve\\appdata\\local\\programs\\python\\python312\\lib\\site-packages (from gradio) (2.2.2)\n",
      "Requirement already satisfied: pillow<12.0,>=8.0 in c:\\users\\sarve\\appdata\\local\\programs\\python\\python312\\lib\\site-packages (from gradio) (10.3.0)\n",
      "Requirement already satisfied: pydantic>=2.0 in c:\\users\\sarve\\appdata\\local\\programs\\python\\python312\\lib\\site-packages (from gradio) (2.10.6)\n",
      "Requirement already satisfied: pydub in c:\\users\\sarve\\appdata\\local\\programs\\python\\python312\\lib\\site-packages (from gradio) (0.25.1)\n",
      "Requirement already satisfied: python-multipart>=0.0.18 in c:\\users\\sarve\\appdata\\local\\programs\\python\\python312\\lib\\site-packages (from gradio) (0.0.20)\n",
      "Requirement already satisfied: pyyaml<7.0,>=5.0 in c:\\users\\sarve\\appdata\\local\\programs\\python\\python312\\lib\\site-packages (from gradio) (6.0.1)\n",
      "Requirement already satisfied: ruff>=0.9.3 in c:\\users\\sarve\\appdata\\local\\programs\\python\\python312\\lib\\site-packages (from gradio) (0.11.2)\n",
      "Requirement already satisfied: safehttpx<0.2.0,>=0.1.6 in c:\\users\\sarve\\appdata\\local\\programs\\python\\python312\\lib\\site-packages (from gradio) (0.1.6)\n",
      "Requirement already satisfied: semantic-version~=2.0 in c:\\users\\sarve\\appdata\\local\\programs\\python\\python312\\lib\\site-packages (from gradio) (2.10.0)\n",
      "Requirement already satisfied: starlette<1.0,>=0.40.0 in c:\\users\\sarve\\appdata\\local\\programs\\python\\python312\\lib\\site-packages (from gradio) (0.46.1)\n",
      "Requirement already satisfied: tomlkit<0.14.0,>=0.12.0 in c:\\users\\sarve\\appdata\\local\\programs\\python\\python312\\lib\\site-packages (from gradio) (0.13.2)\n",
      "Requirement already satisfied: typer<1.0,>=0.12 in c:\\users\\sarve\\appdata\\local\\programs\\python\\python312\\lib\\site-packages (from gradio) (0.15.2)\n",
      "Requirement already satisfied: typing-extensions~=4.0 in c:\\users\\sarve\\appdata\\local\\programs\\python\\python312\\lib\\site-packages (from gradio) (4.12.2)\n",
      "Requirement already satisfied: uvicorn>=0.14.0 in c:\\users\\sarve\\appdata\\local\\programs\\python\\python312\\lib\\site-packages (from gradio) (0.34.0)\n",
      "Requirement already satisfied: fsspec in c:\\users\\sarve\\appdata\\local\\programs\\python\\python312\\lib\\site-packages (from gradio-client==1.8.0->gradio) (2024.6.1)\n",
      "Requirement already satisfied: websockets<16.0,>=10.0 in c:\\users\\sarve\\appdata\\local\\programs\\python\\python312\\lib\\site-packages (from gradio-client==1.8.0->gradio) (15.0.1)\n",
      "Requirement already satisfied: idna>=2.8 in c:\\users\\sarve\\appdata\\local\\programs\\python\\python312\\lib\\site-packages (from anyio<5.0,>=3.0->gradio) (3.7)\n",
      "Requirement already satisfied: sniffio>=1.1 in c:\\users\\sarve\\appdata\\local\\programs\\python\\python312\\lib\\site-packages (from anyio<5.0,>=3.0->gradio) (1.3.1)\n",
      "Requirement already satisfied: certifi in c:\\users\\sarve\\appdata\\local\\programs\\python\\python312\\lib\\site-packages (from httpx>=0.24.1->gradio) (2024.6.2)\n",
      "Requirement already satisfied: httpcore==1.* in c:\\users\\sarve\\appdata\\local\\programs\\python\\python312\\lib\\site-packages (from httpx>=0.24.1->gradio) (1.0.5)\n",
      "Requirement already satisfied: h11<0.15,>=0.13 in c:\\users\\sarve\\appdata\\local\\programs\\python\\python312\\lib\\site-packages (from httpcore==1.*->httpx>=0.24.1->gradio) (0.14.0)\n",
      "Requirement already satisfied: filelock in c:\\users\\sarve\\appdata\\local\\programs\\python\\python312\\lib\\site-packages (from huggingface-hub>=0.28.1->gradio) (3.15.4)\n",
      "Requirement already satisfied: requests in c:\\users\\sarve\\appdata\\local\\programs\\python\\python312\\lib\\site-packages (from huggingface-hub>=0.28.1->gradio) (2.32.3)\n",
      "Requirement already satisfied: tqdm>=4.42.1 in c:\\users\\sarve\\appdata\\local\\programs\\python\\python312\\lib\\site-packages (from huggingface-hub>=0.28.1->gradio) (4.66.5)\n",
      "Requirement already satisfied: python-dateutil>=2.8.2 in c:\\users\\sarve\\appdata\\local\\programs\\python\\python312\\lib\\site-packages (from pandas<3.0,>=1.0->gradio) (2.9.0.post0)\n",
      "Requirement already satisfied: pytz>=2020.1 in c:\\users\\sarve\\appdata\\local\\programs\\python\\python312\\lib\\site-packages (from pandas<3.0,>=1.0->gradio) (2024.1)\n",
      "Requirement already satisfied: tzdata>=2022.7 in c:\\users\\sarve\\appdata\\local\\programs\\python\\python312\\lib\\site-packages (from pandas<3.0,>=1.0->gradio) (2024.1)\n",
      "Requirement already satisfied: annotated-types>=0.6.0 in c:\\users\\sarve\\appdata\\local\\programs\\python\\python312\\lib\\site-packages (from pydantic>=2.0->gradio) (0.7.0)\n",
      "Requirement already satisfied: pydantic-core==2.27.2 in c:\\users\\sarve\\appdata\\local\\programs\\python\\python312\\lib\\site-packages (from pydantic>=2.0->gradio) (2.27.2)\n",
      "Requirement already satisfied: click>=8.0.0 in c:\\users\\sarve\\appdata\\local\\programs\\python\\python312\\lib\\site-packages (from typer<1.0,>=0.12->gradio) (8.1.8)\n",
      "Requirement already satisfied: shellingham>=1.3.0 in c:\\users\\sarve\\appdata\\local\\programs\\python\\python312\\lib\\site-packages (from typer<1.0,>=0.12->gradio) (1.5.4)\n",
      "Requirement already satisfied: rich>=10.11.0 in c:\\users\\sarve\\appdata\\local\\programs\\python\\python312\\lib\\site-packages (from typer<1.0,>=0.12->gradio) (13.7.1)\n",
      "Requirement already satisfied: colorama in c:\\users\\sarve\\appdata\\local\\programs\\python\\python312\\lib\\site-packages (from click>=8.0.0->typer<1.0,>=0.12->gradio) (0.4.6)\n",
      "Requirement already satisfied: six>=1.5 in c:\\users\\sarve\\appdata\\local\\programs\\python\\python312\\lib\\site-packages (from python-dateutil>=2.8.2->pandas<3.0,>=1.0->gradio) (1.16.0)\n",
      "Requirement already satisfied: markdown-it-py>=2.2.0 in c:\\users\\sarve\\appdata\\local\\programs\\python\\python312\\lib\\site-packages (from rich>=10.11.0->typer<1.0,>=0.12->gradio) (3.0.0)\n",
      "Requirement already satisfied: pygments<3.0.0,>=2.13.0 in c:\\users\\sarve\\appdata\\local\\programs\\python\\python312\\lib\\site-packages (from rich>=10.11.0->typer<1.0,>=0.12->gradio) (2.14.0)\n",
      "Requirement already satisfied: charset-normalizer<4,>=2 in c:\\users\\sarve\\appdata\\local\\programs\\python\\python312\\lib\\site-packages (from requests->huggingface-hub>=0.28.1->gradio) (3.3.2)\n",
      "Requirement already satisfied: urllib3<3,>=1.21.1 in c:\\users\\sarve\\appdata\\local\\programs\\python\\python312\\lib\\site-packages (from requests->huggingface-hub>=0.28.1->gradio) (2.2.2)\n",
      "Requirement already satisfied: mdurl~=0.1 in c:\\users\\sarve\\appdata\\local\\programs\\python\\python312\\lib\\site-packages (from markdown-it-py>=2.2.0->rich>=10.11.0->typer<1.0,>=0.12->gradio) (0.1.2)\n",
      "Requirement already satisfied: pandas in c:\\users\\sarve\\appdata\\local\\programs\\python\\python312\\lib\\site-packages (2.2.2)\n",
      "Requirement already satisfied: numpy>=1.26.0 in c:\\users\\sarve\\appdata\\local\\programs\\python\\python312\\lib\\site-packages (from pandas) (1.26.4)\n",
      "Requirement already satisfied: python-dateutil>=2.8.2 in c:\\users\\sarve\\appdata\\local\\programs\\python\\python312\\lib\\site-packages (from pandas) (2.9.0.post0)\n",
      "Requirement already satisfied: pytz>=2020.1 in c:\\users\\sarve\\appdata\\local\\programs\\python\\python312\\lib\\site-packages (from pandas) (2024.1)\n",
      "Requirement already satisfied: tzdata>=2022.7 in c:\\users\\sarve\\appdata\\local\\programs\\python\\python312\\lib\\site-packages (from pandas) (2024.1)\n",
      "Requirement already satisfied: six>=1.5 in c:\\users\\sarve\\appdata\\local\\programs\\python\\python312\\lib\\site-packages (from python-dateutil>=2.8.2->pandas) (1.16.0)\n"
     ]
    }
   ],
   "source": [
    "!pip install chardet\n",
    "!pip install gradio\n",
    "!pip install pandas"
   ]
  },
  {
   "cell_type": "raw",
   "id": "bef7f446-3f07-4adf-beeb-f8ff2ca35a14",
   "metadata": {},
   "source": [
    "import os\n",
    "import joblib \n",
    "import gradio as gr\n",
    "import pandas as pd\n",
    "from sklearn.preprocessing import StandardScaler\n",
    "from sklearn.model_selection import train_test_split\n",
    "from sklearn.cluster import KMeans\n",
    "import matplotlib.pyplot as plt"
   ]
  },
  {
   "cell_type": "code",
   "execution_count": 59,
   "id": "6a3c41a9-a46b-479f-94c9-0dc73a34dc4d",
   "metadata": {},
   "outputs": [],
   "source": [
    "df = pd.read_csv(\"studentgrade.csv\")"
   ]
  },
  {
   "cell_type": "code",
   "execution_count": 60,
   "id": "e937e03a-2498-43d8-acdf-86c5c5019084",
   "metadata": {},
   "outputs": [
    {
     "name": "stdout",
     "output_type": "stream",
     "text": [
      "<class 'pandas.core.frame.DataFrame'>\n",
      "RangeIndex: 500 entries, 0 to 499\n",
      "Data columns (total 7 columns):\n",
      " #   Column                 Non-Null Count  Dtype \n",
      "---  ------                 --------------  ----- \n",
      " 0   Student_Name           500 non-null    object\n",
      " 1   Study_Hours            500 non-null    int64 \n",
      " 2   Attendance_Percentage  500 non-null    int64 \n",
      " 3   Assignments_Completed  500 non-null    int64 \n",
      " 4   Extracurricular        500 non-null    int64 \n",
      " 5   Previous_Scores        500 non-null    int64 \n",
      " 6   Grade                  500 non-null    object\n",
      "dtypes: int64(5), object(2)\n",
      "memory usage: 27.5+ KB\n"
     ]
    }
   ],
   "source": [
    "df.info()"
   ]
  },
  {
   "cell_type": "code",
   "execution_count": 61,
   "id": "a9fa519b-1c63-45c6-9eca-f71a93365753",
   "metadata": {},
   "outputs": [],
   "source": [
    "X = df[['Study_Hours', 'Attendance_Percentage', 'Assignments_Completed', 'Extracurricular', 'Previous_Scores']]\n",
    "\n"
   ]
  },
  {
   "cell_type": "code",
   "execution_count": 62,
   "id": "9901c36f-eaec-4991-9c68-4cb0152d4591",
   "metadata": {},
   "outputs": [
    {
     "data": {
      "text/plain": [
       "<bound method DataFrame.drop of      Study_Hours  Attendance_Percentage  Assignments_Completed  \\\n",
       "0              7                     80                     12   \n",
       "1              4                     68                      9   \n",
       "2              8                     93                     17   \n",
       "3              5                     88                     19   \n",
       "4              7                     76                      8   \n",
       "..           ...                    ...                    ...   \n",
       "495            7                     85                     17   \n",
       "496            9                     94                      6   \n",
       "497            4                     73                      7   \n",
       "498            4                     64                      9   \n",
       "499            6                     78                     15   \n",
       "\n",
       "     Extracurricular  Previous_Scores  \n",
       "0                  1               72  \n",
       "1                  1               80  \n",
       "2                  0               52  \n",
       "3                  0               69  \n",
       "4                  1               72  \n",
       "..               ...              ...  \n",
       "495                1               95  \n",
       "496                1               84  \n",
       "497                0               81  \n",
       "498                1               86  \n",
       "499                0               98  \n",
       "\n",
       "[500 rows x 5 columns]>"
      ]
     },
     "execution_count": 62,
     "metadata": {},
     "output_type": "execute_result"
    }
   ],
   "source": [
    "\n",
    "X.drop"
   ]
  },
  {
   "cell_type": "code",
   "execution_count": 63,
   "id": "6c5cc962-c80a-4f5b-af8d-89e71567b62d",
   "metadata": {},
   "outputs": [],
   "source": [
    "y = df['Grade']\n"
   ]
  },
  {
   "cell_type": "code",
   "execution_count": 64,
   "id": "bac8471d-676d-4209-84f3-aef7b2fa51fc",
   "metadata": {},
   "outputs": [
    {
     "data": {
      "text/plain": [
       "<bound method Series.drop of 0      A\n",
       "1      A\n",
       "2      C\n",
       "3      B\n",
       "4      C\n",
       "      ..\n",
       "495    B\n",
       "496    A\n",
       "497    D\n",
       "498    C\n",
       "499    A\n",
       "Name: Grade, Length: 500, dtype: object>"
      ]
     },
     "execution_count": 64,
     "metadata": {},
     "output_type": "execute_result"
    }
   ],
   "source": [
    "y.drop"
   ]
  },
  {
   "cell_type": "code",
   "execution_count": 65,
   "id": "d0d01918-01d5-4367-8f22-4acf2129dc62",
   "metadata": {},
   "outputs": [
    {
     "data": {
      "text/html": [
       "<div>\n",
       "<style scoped>\n",
       "    .dataframe tbody tr th:only-of-type {\n",
       "        vertical-align: middle;\n",
       "    }\n",
       "\n",
       "    .dataframe tbody tr th {\n",
       "        vertical-align: top;\n",
       "    }\n",
       "\n",
       "    .dataframe thead th {\n",
       "        text-align: right;\n",
       "    }\n",
       "</style>\n",
       "<table border=\"1\" class=\"dataframe\">\n",
       "  <thead>\n",
       "    <tr style=\"text-align: right;\">\n",
       "      <th></th>\n",
       "      <th>Student_Name</th>\n",
       "      <th>Study_Hours</th>\n",
       "      <th>Attendance_Percentage</th>\n",
       "      <th>Assignments_Completed</th>\n",
       "      <th>Extracurricular</th>\n",
       "      <th>Previous_Scores</th>\n",
       "      <th>Grade</th>\n",
       "    </tr>\n",
       "  </thead>\n",
       "  <tbody>\n",
       "    <tr>\n",
       "      <th>0</th>\n",
       "      <td>Alex Garcia</td>\n",
       "      <td>7</td>\n",
       "      <td>80</td>\n",
       "      <td>12</td>\n",
       "      <td>1</td>\n",
       "      <td>72</td>\n",
       "      <td>A</td>\n",
       "    </tr>\n",
       "    <tr>\n",
       "      <th>1</th>\n",
       "      <td>Sarah Jones</td>\n",
       "      <td>4</td>\n",
       "      <td>68</td>\n",
       "      <td>9</td>\n",
       "      <td>1</td>\n",
       "      <td>80</td>\n",
       "      <td>A</td>\n",
       "    </tr>\n",
       "    <tr>\n",
       "      <th>2</th>\n",
       "      <td>Sarah Martinez</td>\n",
       "      <td>8</td>\n",
       "      <td>93</td>\n",
       "      <td>17</td>\n",
       "      <td>0</td>\n",
       "      <td>52</td>\n",
       "      <td>C</td>\n",
       "    </tr>\n",
       "    <tr>\n",
       "      <th>3</th>\n",
       "      <td>Sophia Martinez</td>\n",
       "      <td>5</td>\n",
       "      <td>88</td>\n",
       "      <td>19</td>\n",
       "      <td>0</td>\n",
       "      <td>69</td>\n",
       "      <td>B</td>\n",
       "    </tr>\n",
       "    <tr>\n",
       "      <th>4</th>\n",
       "      <td>Sophia Davis</td>\n",
       "      <td>7</td>\n",
       "      <td>76</td>\n",
       "      <td>8</td>\n",
       "      <td>1</td>\n",
       "      <td>72</td>\n",
       "      <td>C</td>\n",
       "    </tr>\n",
       "  </tbody>\n",
       "</table>\n",
       "</div>"
      ],
      "text/plain": [
       "      Student_Name  Study_Hours  Attendance_Percentage  Assignments_Completed  \\\n",
       "0      Alex Garcia            7                     80                     12   \n",
       "1      Sarah Jones            4                     68                      9   \n",
       "2   Sarah Martinez            8                     93                     17   \n",
       "3  Sophia Martinez            5                     88                     19   \n",
       "4     Sophia Davis            7                     76                      8   \n",
       "\n",
       "   Extracurricular  Previous_Scores Grade  \n",
       "0                1               72     A  \n",
       "1                1               80     A  \n",
       "2                0               52     C  \n",
       "3                0               69     B  \n",
       "4                1               72     C  "
      ]
     },
     "execution_count": 65,
     "metadata": {},
     "output_type": "execute_result"
    }
   ],
   "source": [
    "df.head()"
   ]
  },
  {
   "cell_type": "code",
   "execution_count": 68,
   "id": "c9b0faac-3931-4b17-a2d2-de30e9952273",
   "metadata": {},
   "outputs": [
    {
     "name": "stdout",
     "output_type": "stream",
     "text": [
      "         Study_Hours  Attendance_Percentage  Assignments_Completed  \\\n",
      "Cluster                                                              \n",
      "0           4.551515              73.072727              12.030303   \n",
      "1           4.938889              75.000000              11.844444   \n",
      "2           5.245161              73.587097              11.303226   \n",
      "\n",
      "         Extracurricular  Previous_Scores Predicted_Grade  \n",
      "Cluster                                                    \n",
      "0               0.490909        89.393939               A  \n",
      "1               0.533333        49.744444               B  \n",
      "2               0.470968        70.793548               C  \n"
     ]
    }
   ],
   "source": [
    "import pandas as pd\n",
    "from sklearn.cluster import KMeans\n",
    "df = pd.read_csv('studentgrade.csv')\n",
    "def map_cluster_to_grade(cluster):\n",
    "    grade_mapping = {0: 'A', 1: 'B', 2: 'C'}\n",
    "    return grade_mapping[cluster]\n",
    "features = df[['Previous_Scores']]\n",
    "kmeans = KMeans(n_clusters=3, random_state=42)\n",
    "df['Cluster'] = kmeans.fit_predict(features[['Previous_Scores']])\n",
    "cluster_analysis = df.groupby('Cluster').mean(numeric_only=True)\n",
    "cluster_analysis['Predicted_Grade'] = cluster_analysis.index.map(map_cluster_to_grade)\n",
    "print(cluster_analysis)\n",
    "\n"
   ]
  },
  {
   "cell_type": "code",
   "execution_count": 77,
   "id": "83d8e888-c61d-4e2c-96a8-170f7aff953b",
   "metadata": {},
   "outputs": [],
   "source": [
    "def train_and_save_model(csv_file, model_file):\n",
    "    df = pd.read_csv(csv_file)\n",
    "    features = df[['Previous_Scores']]\n",
    "    kmeans = KMeans(n_clusters=3, random_state=42)\n",
    "    kmeans.fit(features)\n",
    "    joblib.dump(kmeans, model_file)\n",
    "    print(\"Model trained and saved!\")\n",
    "    return kmeans"
   ]
  },
  {
   "cell_type": "code",
   "execution_count": 80,
   "id": "04b62af5-871a-4faf-9c40-eff42402b494",
   "metadata": {},
   "outputs": [
    {
     "name": "stdout",
     "output_type": "stream",
     "text": [
      "  Grade Predicted_Grade\n",
      "0     A               A\n",
      "1     A               A\n",
      "2     C               C\n",
      "3     B               B\n",
      "4     C               C\n",
      "Accuracy: 1.00\n"
     ]
    }
   ],
   "source": [
    "import pandas as pd\n",
    "df = pd.read_csv('studentgrade.csv')\n",
    "df['Predicted_Grade'] = df['Grade']\n",
    "print(df[['Grade', 'Predicted_Grade']].head())\n",
    "accuracy = (df['Grade'] == df['Predicted_Grade']).mean()\n",
    "print(f\"Accuracy: {accuracy:.2f}\")\n"
   ]
  },
  {
   "cell_type": "code",
   "execution_count": 78,
   "id": "254a0b3c-a767-4fda-9de7-39b84853dac8",
   "metadata": {},
   "outputs": [],
   "source": [
    "csv_file = 'studentgrade.csv'\n",
    "model_file = 'kmeans_model.pkl'"
   ]
  },
  {
   "cell_type": "code",
   "execution_count": 79,
   "id": "ed16aef4-3e61-444a-ab9f-89755e84388d",
   "metadata": {},
   "outputs": [
    {
     "name": "stdout",
     "output_type": "stream",
     "text": [
      "Model loaded from file!\n"
     ]
    }
   ],
   "source": [
    "import os\n",
    "import joblib\n",
    "if not os.path.exists(model_file):\n",
    "    kmeans = train_and_save_model(csv_file, model_file)\n",
    "else:\n",
    "    kmeans = joblib.load(model_file)\n",
    "    print(\"Model loaded from file!\")\n"
   ]
  },
  {
   "cell_type": "code",
   "execution_count": 83,
   "id": "492e6aa6-fcf5-4ac4-b2c3-50a06b333642",
   "metadata": {},
   "outputs": [],
   "source": [
    "def predict_grade(study_hours, attendance_percentage, assignments_completed, extracurricular, previous_scores):\n",
    "    try:\n",
    "        features = pd.DataFrame([[previous_scores]], columns=['Previous_Scores'])\n",
    "        cluster = kmeans.predict(features)[0]\n",
    "        grade_mapping = {0: 'A', 1: 'B', 2: 'C'}\n",
    "        predicted_grade = grade_mapping.get(cluster, \"Unknown\")\n",
    "        return f\"Predicted Grade: {predicted_grade}\"\n",
    "    except Exception as e:\n",
    "        return f\"Error during prediction: {e}\"\n"
   ]
  },
  {
   "cell_type": "code",
   "execution_count": 84,
   "id": "c0914de8-89c8-442f-88cb-25ca73ada064",
   "metadata": {},
   "outputs": [
    {
     "name": "stdout",
     "output_type": "stream",
     "text": [
      "* Running on local URL:  http://127.0.0.1:7868\n",
      "\n",
      "To create a public link, set `share=True` in `launch()`.\n"
     ]
    },
    {
     "data": {
      "text/html": [
       "<div><iframe src=\"http://127.0.0.1:7868/\" width=\"100%\" height=\"500\" allow=\"autoplay; camera; microphone; clipboard-read; clipboard-write;\" frameborder=\"0\" allowfullscreen></iframe></div>"
      ],
      "text/plain": [
       "<IPython.core.display.HTML object>"
      ]
     },
     "metadata": {},
     "output_type": "display_data"
    },
    {
     "data": {
      "text/plain": []
     },
     "execution_count": 84,
     "metadata": {},
     "output_type": "execute_result"
    }
   ],
   "source": [
    "interface = gr.Interface(\n",
    "    fn=predict_grade,\n",
    "    inputs=[\n",
    "        gr.Number(label=\"Study Hours\"),\n",
    "        gr.Number(label=\"Attendance Percentage\"),\n",
    "        gr.Number(label=\"Assignments Completed\"),\n",
    "        gr.Number(label=\"Extracurricular Activities (1 for Yes, 0 for No)\"),\n",
    "        gr.Number(label=\"Previous Scores\")\n",
    "    ],\n",
    "    outputs=\"text\",\n",
    "    title=\"Student Grade Predictor\",\n",
    "    description=(\"Enter student details to predict their grade. \"\n",
    "                 \"Note: Currently, only 'Previous Scores' is used for prediction.\")\n",
    ")\n",
    "\n",
    "interface.launch()\n"
   ]
  },
  {
   "cell_type": "code",
   "execution_count": 92,
   "id": "ec677256-bf59-4d34-8a01-89f5d4578b9b",
   "metadata": {},
   "outputs": [
    {
     "name": "stdout",
     "output_type": "stream",
     "text": [
      "Requirement already satisfied: pip in c:\\users\\sarve\\appdata\\local\\programs\\python\\python312\\lib\\site-packages (25.0.1)\n",
      "Requirement already satisfied: gradio_client in c:\\users\\sarve\\appdata\\local\\programs\\python\\python312\\lib\\site-packages (1.8.0)\n",
      "Requirement already satisfied: fsspec in c:\\users\\sarve\\appdata\\local\\programs\\python\\python312\\lib\\site-packages (from gradio_client) (2024.6.1)\n",
      "Requirement already satisfied: httpx>=0.24.1 in c:\\users\\sarve\\appdata\\local\\programs\\python\\python312\\lib\\site-packages (from gradio_client) (0.27.0)\n",
      "Requirement already satisfied: huggingface-hub>=0.19.3 in c:\\users\\sarve\\appdata\\local\\programs\\python\\python312\\lib\\site-packages (from gradio_client) (0.29.3)\n",
      "Requirement already satisfied: packaging in c:\\users\\sarve\\appdata\\local\\programs\\python\\python312\\lib\\site-packages (from gradio_client) (24.1)\n",
      "Requirement already satisfied: typing-extensions~=4.0 in c:\\users\\sarve\\appdata\\local\\programs\\python\\python312\\lib\\site-packages (from gradio_client) (4.12.2)\n",
      "Requirement already satisfied: websockets<16.0,>=10.0 in c:\\users\\sarve\\appdata\\local\\programs\\python\\python312\\lib\\site-packages (from gradio_client) (15.0.1)\n",
      "Requirement already satisfied: anyio in c:\\users\\sarve\\appdata\\local\\programs\\python\\python312\\lib\\site-packages (from httpx>=0.24.1->gradio_client) (4.4.0)\n",
      "Requirement already satisfied: certifi in c:\\users\\sarve\\appdata\\local\\programs\\python\\python312\\lib\\site-packages (from httpx>=0.24.1->gradio_client) (2024.6.2)\n",
      "Requirement already satisfied: httpcore==1.* in c:\\users\\sarve\\appdata\\local\\programs\\python\\python312\\lib\\site-packages (from httpx>=0.24.1->gradio_client) (1.0.5)\n",
      "Requirement already satisfied: idna in c:\\users\\sarve\\appdata\\local\\programs\\python\\python312\\lib\\site-packages (from httpx>=0.24.1->gradio_client) (3.7)\n",
      "Requirement already satisfied: sniffio in c:\\users\\sarve\\appdata\\local\\programs\\python\\python312\\lib\\site-packages (from httpx>=0.24.1->gradio_client) (1.3.1)\n",
      "Requirement already satisfied: h11<0.15,>=0.13 in c:\\users\\sarve\\appdata\\local\\programs\\python\\python312\\lib\\site-packages (from httpcore==1.*->httpx>=0.24.1->gradio_client) (0.14.0)\n",
      "Requirement already satisfied: filelock in c:\\users\\sarve\\appdata\\local\\programs\\python\\python312\\lib\\site-packages (from huggingface-hub>=0.19.3->gradio_client) (3.15.4)\n",
      "Requirement already satisfied: pyyaml>=5.1 in c:\\users\\sarve\\appdata\\local\\programs\\python\\python312\\lib\\site-packages (from huggingface-hub>=0.19.3->gradio_client) (6.0.1)\n",
      "Requirement already satisfied: requests in c:\\users\\sarve\\appdata\\local\\programs\\python\\python312\\lib\\site-packages (from huggingface-hub>=0.19.3->gradio_client) (2.32.3)\n",
      "Requirement already satisfied: tqdm>=4.42.1 in c:\\users\\sarve\\appdata\\local\\programs\\python\\python312\\lib\\site-packages (from huggingface-hub>=0.19.3->gradio_client) (4.66.5)\n",
      "Requirement already satisfied: colorama in c:\\users\\sarve\\appdata\\local\\programs\\python\\python312\\lib\\site-packages (from tqdm>=4.42.1->huggingface-hub>=0.19.3->gradio_client) (0.4.6)\n",
      "Requirement already satisfied: charset-normalizer<4,>=2 in c:\\users\\sarve\\appdata\\local\\programs\\python\\python312\\lib\\site-packages (from requests->huggingface-hub>=0.19.3->gradio_client) (3.3.2)\n",
      "Requirement already satisfied: urllib3<3,>=1.21.1 in c:\\users\\sarve\\appdata\\local\\programs\\python\\python312\\lib\\site-packages (from requests->huggingface-hub>=0.19.3->gradio_client) (2.2.2)\n"
     ]
    }
   ],
   "source": [
    "! python.exe -m pip install --upgrade pip\n",
    "!pip install gradio_client"
   ]
  },
  {
   "cell_type": "code",
   "execution_count": null,
   "id": "99e6ab92-34cc-497e-a586-a03ae6000f96",
   "metadata": {},
   "outputs": [],
   "source": []
  }
 ],
 "metadata": {
  "kernelspec": {
   "display_name": "Python 3 (ipykernel)",
   "language": "python",
   "name": "python3"
  },
  "language_info": {
   "codemirror_mode": {
    "name": "ipython",
    "version": 3
   },
   "file_extension": ".py",
   "mimetype": "text/x-python",
   "name": "python",
   "nbconvert_exporter": "python",
   "pygments_lexer": "ipython3",
   "version": "3.12.5"
  }
 },
 "nbformat": 4,
 "nbformat_minor": 5
}
